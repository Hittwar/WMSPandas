{
 "cells": [
  {
   "cell_type": "code",
   "execution_count": 41,
   "metadata": {},
   "outputs": [
    {
     "name": "stdout",
     "output_type": "stream",
     "text": [
      "Requirement already satisfied: pypyodbc in c:\\users\\jorge.polanco\\anaconda3\\lib\\site-packages (1.3.4)\n",
      "Requirement already satisfied: setuptools in c:\\users\\jorge.polanco\\anaconda3\\lib\\site-packages (from pypyodbc) (45.2.0.post20200210)\n"
     ]
    }
   ],
   "source": [
    "!pip install pypyodbc"
   ]
  },
  {
   "cell_type": "code",
   "execution_count": 43,
   "metadata": {},
   "outputs": [
    {
     "name": "stdout",
     "output_type": "stream",
     "text": [
      "Requirement already satisfied: pandas in c:\\users\\jorge.polanco\\anaconda3\\lib\\site-packages (1.0.1)\n",
      "Requirement already satisfied: python-dateutil>=2.6.1 in c:\\users\\jorge.polanco\\anaconda3\\lib\\site-packages (from pandas) (2.8.1)\n",
      "Requirement already satisfied: pytz>=2017.2 in c:\\users\\jorge.polanco\\anaconda3\\lib\\site-packages (from pandas) (2019.3)\n",
      "Requirement already satisfied: numpy>=1.13.3 in c:\\users\\jorge.polanco\\anaconda3\\lib\\site-packages (from pandas) (1.18.1)\n",
      "Requirement already satisfied: six>=1.5 in c:\\users\\jorge.polanco\\anaconda3\\lib\\site-packages (from python-dateutil>=2.6.1->pandas) (1.14.0)\n"
     ]
    }
   ],
   "source": [
    "!pip install pandas"
   ]
  },
  {
   "cell_type": "code",
   "execution_count": 44,
   "metadata": {},
   "outputs": [
    {
     "name": "stdout",
     "output_type": "stream",
     "text": [
      "Requirement already satisfied: matplotlib in c:\\users\\jorge.polanco\\anaconda3\\lib\\site-packages (3.1.3)\n",
      "Requirement already satisfied: pyparsing!=2.0.4,!=2.1.2,!=2.1.6,>=2.0.1 in c:\\users\\jorge.polanco\\anaconda3\\lib\\site-packages (from matplotlib) (2.4.6)\n",
      "Requirement already satisfied: python-dateutil>=2.1 in c:\\users\\jorge.polanco\\anaconda3\\lib\\site-packages (from matplotlib) (2.8.1)\n",
      "Requirement already satisfied: numpy>=1.11 in c:\\users\\jorge.polanco\\anaconda3\\lib\\site-packages (from matplotlib) (1.18.1)\n",
      "Requirement already satisfied: cycler>=0.10 in c:\\users\\jorge.polanco\\anaconda3\\lib\\site-packages (from matplotlib) (0.10.0)\n",
      "Requirement already satisfied: kiwisolver>=1.0.1 in c:\\users\\jorge.polanco\\anaconda3\\lib\\site-packages (from matplotlib) (1.1.0)\n",
      "Requirement already satisfied: six>=1.5 in c:\\users\\jorge.polanco\\anaconda3\\lib\\site-packages (from python-dateutil>=2.1->matplotlib) (1.14.0)\n",
      "Requirement already satisfied: setuptools in c:\\users\\jorge.polanco\\anaconda3\\lib\\site-packages (from kiwisolver>=1.0.1->matplotlib) (45.2.0.post20200210)\n"
     ]
    }
   ],
   "source": [
    "!pip install matplotlib"
   ]
  },
  {
   "cell_type": "code",
   "execution_count": 45,
   "metadata": {
    "scrolled": false
   },
   "outputs": [],
   "source": [
    "import pypyodbc as podbc\n",
    "import pandas as pd\n",
    "import numpy as np"
   ]
  },
  {
   "cell_type": "code",
   "execution_count": 46,
   "metadata": {},
   "outputs": [],
   "source": [
    "# DB Connection \n",
    "conn=podbc.connect(\"Driver={SQL Server};Server=localhost,1433;Database=APPWMS;uid=sa;pwd=sa2019\")"
   ]
  },
  {
   "cell_type": "code",
   "execution_count": 48,
   "metadata": {},
   "outputs": [],
   "source": [
    "query = \"\"\"select invlod.lodnum, invsub.subnum, invdtl.prtnum, invdtl.untqty \n",
    "from invlod inner join invsub \n",
    "on invlod.lodnum = invsub.lodnum \n",
    "inner join invdtl \n",
    "on invsub.subnum = invdtl.subnum \n",
    "where invlod.lodnum not like 'PERM%'\"\"\""
   ]
  },
  {
   "cell_type": "code",
   "execution_count": 49,
   "metadata": {},
   "outputs": [],
   "source": [
    "df = pd.read_sql(query, conn)"
   ]
  },
  {
   "cell_type": "code",
   "execution_count": 53,
   "metadata": {},
   "outputs": [
    {
     "data": {
      "text/html": [
       "<div>\n",
       "<style scoped>\n",
       "    .dataframe tbody tr th:only-of-type {\n",
       "        vertical-align: middle;\n",
       "    }\n",
       "\n",
       "    .dataframe tbody tr th {\n",
       "        vertical-align: top;\n",
       "    }\n",
       "\n",
       "    .dataframe thead th {\n",
       "        text-align: right;\n",
       "    }\n",
       "</style>\n",
       "<table border=\"1\" class=\"dataframe\">\n",
       "  <thead>\n",
       "    <tr style=\"text-align: right;\">\n",
       "      <th></th>\n",
       "      <th>lodnum</th>\n",
       "      <th>subnum</th>\n",
       "      <th>prtnum</th>\n",
       "      <th>untqty</th>\n",
       "    </tr>\n",
       "  </thead>\n",
       "  <tbody>\n",
       "    <tr>\n",
       "      <th>0</th>\n",
       "      <td>LPNCARTON</td>\n",
       "      <td>CTN000000K</td>\n",
       "      <td>CELLPHONE</td>\n",
       "      <td>1</td>\n",
       "    </tr>\n",
       "    <tr>\n",
       "      <th>1</th>\n",
       "      <td>LPNCARTON</td>\n",
       "      <td>CTN000000K</td>\n",
       "      <td>PHONECHARGER</td>\n",
       "      <td>1</td>\n",
       "    </tr>\n",
       "    <tr>\n",
       "      <th>2</th>\n",
       "      <td>LPNCARTON</td>\n",
       "      <td>CTN000000K</td>\n",
       "      <td>LEATHERCASE</td>\n",
       "      <td>1</td>\n",
       "    </tr>\n",
       "    <tr>\n",
       "      <th>3</th>\n",
       "      <td>LPNCARTON</td>\n",
       "      <td>CTN000000L</td>\n",
       "      <td>CELLPHONE</td>\n",
       "      <td>1</td>\n",
       "    </tr>\n",
       "    <tr>\n",
       "      <th>4</th>\n",
       "      <td>LPNCARTON</td>\n",
       "      <td>CTN000000L</td>\n",
       "      <td>PHONECHARGER</td>\n",
       "      <td>1</td>\n",
       "    </tr>\n",
       "  </tbody>\n",
       "</table>\n",
       "</div>"
      ],
      "text/plain": [
       "      lodnum      subnum        prtnum  untqty\n",
       "0  LPNCARTON  CTN000000K     CELLPHONE       1\n",
       "1  LPNCARTON  CTN000000K  PHONECHARGER       1\n",
       "2  LPNCARTON  CTN000000K   LEATHERCASE       1\n",
       "3  LPNCARTON  CTN000000L     CELLPHONE       1\n",
       "4  LPNCARTON  CTN000000L  PHONECHARGER       1"
      ]
     },
     "execution_count": 53,
     "metadata": {},
     "output_type": "execute_result"
    }
   ],
   "source": [
    "df.head(5)"
   ]
  },
  {
   "cell_type": "code",
   "execution_count": 54,
   "metadata": {},
   "outputs": [
    {
     "data": {
      "text/html": [
       "<div>\n",
       "<style scoped>\n",
       "    .dataframe tbody tr th:only-of-type {\n",
       "        vertical-align: middle;\n",
       "    }\n",
       "\n",
       "    .dataframe tbody tr th {\n",
       "        vertical-align: top;\n",
       "    }\n",
       "\n",
       "    .dataframe thead th {\n",
       "        text-align: right;\n",
       "    }\n",
       "</style>\n",
       "<table border=\"1\" class=\"dataframe\">\n",
       "  <thead>\n",
       "    <tr style=\"text-align: right;\">\n",
       "      <th></th>\n",
       "      <th>prtnum</th>\n",
       "    </tr>\n",
       "    <tr>\n",
       "      <th>prtnum</th>\n",
       "      <th></th>\n",
       "    </tr>\n",
       "  </thead>\n",
       "  <tbody>\n",
       "    <tr>\n",
       "      <th>ANTACID</th>\n",
       "      <td>12</td>\n",
       "    </tr>\n",
       "    <tr>\n",
       "      <th>ANTACID20CT</th>\n",
       "      <td>25</td>\n",
       "    </tr>\n",
       "    <tr>\n",
       "      <th>ASPIRIN20CT</th>\n",
       "      <td>23</td>\n",
       "    </tr>\n",
       "    <tr>\n",
       "      <th>AVOCADO</th>\n",
       "      <td>25</td>\n",
       "    </tr>\n",
       "    <tr>\n",
       "      <th>BANDAIDS</th>\n",
       "      <td>12</td>\n",
       "    </tr>\n",
       "    <tr>\n",
       "      <th>...</th>\n",
       "      <td>...</td>\n",
       "    </tr>\n",
       "    <tr>\n",
       "      <th>VITAMINA</th>\n",
       "      <td>15</td>\n",
       "    </tr>\n",
       "    <tr>\n",
       "      <th>VITAMINB</th>\n",
       "      <td>14</td>\n",
       "    </tr>\n",
       "    <tr>\n",
       "      <th>VITAMINC</th>\n",
       "      <td>14</td>\n",
       "    </tr>\n",
       "    <tr>\n",
       "      <th>WATER</th>\n",
       "      <td>54</td>\n",
       "    </tr>\n",
       "    <tr>\n",
       "      <th>WHEATNOODLE</th>\n",
       "      <td>1</td>\n",
       "    </tr>\n",
       "  </tbody>\n",
       "</table>\n",
       "<p>294 rows × 1 columns</p>\n",
       "</div>"
      ],
      "text/plain": [
       "             prtnum\n",
       "prtnum             \n",
       "ANTACID          12\n",
       "ANTACID20CT      25\n",
       "ASPIRIN20CT      23\n",
       "AVOCADO          25\n",
       "BANDAIDS         12\n",
       "...             ...\n",
       "VITAMINA         15\n",
       "VITAMINB         14\n",
       "VITAMINC         14\n",
       "WATER            54\n",
       "WHEATNOODLE       1\n",
       "\n",
       "[294 rows x 1 columns]"
      ]
     },
     "execution_count": 54,
     "metadata": {},
     "output_type": "execute_result"
    }
   ],
   "source": [
    "df.groupby(['prtnum']).agg({'prtnum':'count'})"
   ]
  },
  {
   "cell_type": "code",
   "execution_count": 63,
   "metadata": {},
   "outputs": [
    {
     "data": {
      "text/plain": [
       "<matplotlib.axes._subplots.AxesSubplot at 0x203f959e3c8>"
      ]
     },
     "execution_count": 63,
     "metadata": {},
     "output_type": "execute_result"
    },
    {
     "data": {
      "image/png": "[encoded data removed]",
      "text/plain": [
       "<Figure size 432x288 with 1 Axes>"
      ]
     },
     "metadata": {
      "needs_background": "light"
     },
     "output_type": "display_data"
    }
   ],
   "source": [
    "a_head = df.head(20)\n",
    "a_head['prtnum'].hist()"
   ]
  },
  {
   "cell_type": "code",
   "execution_count": 64,
   "metadata": {},
   "outputs": [
    {
     "data": {
      "text/plain": [
       "<matplotlib.axes._subplots.AxesSubplot at 0x203f960b3c8>"
      ]
     },
     "execution_count": 64,
     "metadata": {},
     "output_type": "execute_result"
    },
    {
     "data": {
      "image/png": "[encoded data removed]",
      "text/plain": [
       "<Figure size 432x288 with 1 Axes>"
      ]
     },
     "metadata": {
      "needs_background": "light"
     },
     "output_type": "display_data"
    }
   ],
   "source": [
    "a_head = df.tail(20)\n",
    "a_head['prtnum'].hist()"
   ]
  },
  {
   "cell_type": "code",
   "execution_count": 65,
   "metadata": {},
   "outputs": [
    {
     "data": {
      "text/html": [
       "<div>\n",
       "<style scoped>\n",
       "    .dataframe tbody tr th:only-of-type {\n",
       "        vertical-align: middle;\n",
       "    }\n",
       "\n",
       "    .dataframe tbody tr th {\n",
       "        vertical-align: top;\n",
       "    }\n",
       "\n",
       "    .dataframe thead th {\n",
       "        text-align: right;\n",
       "    }\n",
       "</style>\n",
       "<table border=\"1\" class=\"dataframe\">\n",
       "  <thead>\n",
       "    <tr style=\"text-align: right;\">\n",
       "      <th></th>\n",
       "      <th>lodnum</th>\n",
       "      <th>subnum</th>\n",
       "      <th>prtnum</th>\n",
       "      <th>untqty</th>\n",
       "    </tr>\n",
       "  </thead>\n",
       "  <tbody>\n",
       "    <tr>\n",
       "      <th>1526</th>\n",
       "      <td>LPN70001</td>\n",
       "      <td>S0000006082B</td>\n",
       "      <td>BLUEPEN</td>\n",
       "      <td>20000</td>\n",
       "    </tr>\n",
       "    <tr>\n",
       "      <th>1527</th>\n",
       "      <td>LPN70002</td>\n",
       "      <td>S0000006082C</td>\n",
       "      <td>REDPEN</td>\n",
       "      <td>20000</td>\n",
       "    </tr>\n",
       "    <tr>\n",
       "      <th>1528</th>\n",
       "      <td>LPN70003</td>\n",
       "      <td>S0000006082D</td>\n",
       "      <td>PINKPEN</td>\n",
       "      <td>20000</td>\n",
       "    </tr>\n",
       "    <tr>\n",
       "      <th>1529</th>\n",
       "      <td>LPN70004</td>\n",
       "      <td>S0000006082E</td>\n",
       "      <td>GREENPEN</td>\n",
       "      <td>20000</td>\n",
       "    </tr>\n",
       "    <tr>\n",
       "      <th>1530</th>\n",
       "      <td>LPN70005</td>\n",
       "      <td>S0000006082G</td>\n",
       "      <td>ORANGEPEN</td>\n",
       "      <td>20000</td>\n",
       "    </tr>\n",
       "  </tbody>\n",
       "</table>\n",
       "</div>"
      ],
      "text/plain": [
       "        lodnum        subnum     prtnum  untqty\n",
       "1526  LPN70001  S0000006082B    BLUEPEN   20000\n",
       "1527  LPN70002  S0000006082C     REDPEN   20000\n",
       "1528  LPN70003  S0000006082D    PINKPEN   20000\n",
       "1529  LPN70004  S0000006082E   GREENPEN   20000\n",
       "1530  LPN70005  S0000006082G  ORANGEPEN   20000"
      ]
     },
     "execution_count": 65,
     "metadata": {},
     "output_type": "execute_result"
    }
   ],
   "source": [
    "df[['lodnum','subnum','prtnum','untqty']].sort_values(['untqty'],ascending=False).head(5)"
   ]
  },
  {
   "cell_type": "code",
   "execution_count": 66,
   "metadata": {},
   "outputs": [
    {
     "data": {
      "text/plain": [
       "array(['CELLPHONE', 'PHONECHARGER', 'LEATHERCASE', 'DEODORANT', 'SHAMPOO',\n",
       "       'CONDITIONER', 'BULB50W', 'BULB70W', 'BULB90W', 'JEANSGREEN3335',\n",
       "       'VESTGREENMED', 'SHIRTTAN3317', 'TOYDOLL', 'TOYTRUCK', 'TOYTRAIN',\n",
       "       'BASEBALL', 'FOOTBALL', 'BASKETBALL', 'JEANSGREEN3536',\n",
       "       'VESTGREENLARGE', 'SHIRTTAN3519', 'GOLFBALL', 'GOLFTEE',\n",
       "       'GOLFVISOR', 'KEYBOARD', 'OIL30W', 'PAINTBRUSH', 'PAINTROLLER',\n",
       "       'PAINTMIX', 'BATTERIESA', 'BATTERIESB', 'BATTERIESC',\n",
       "       'PLANTFOOD01', 'PLANTFOOD', 'PLANTFOOD02', 'PLANTFOOD03',\n",
       "       'PLANTFOOD04', 'PLANTFOOD05', 'PLANTFOOD06', 'PLANTFOOD07',\n",
       "       'PLANTFOOD08', 'PLANTFOOD09', 'PLANTFOOD10', 'PLANTFOOD11',\n",
       "       'PLANTFOOD12', 'PLANTSOIL', 'PLANTSOIL01', 'PLANTSOIL03',\n",
       "       'PLANTSOIL05', 'PLANTSOIL07', 'PLANTSOIL09', 'PLANTSOIL11',\n",
       "       'PLANTSOIL02', 'PLANTSOIL04', 'PLANTSOIL06', 'PLANTSOIL08',\n",
       "       'PLANTSOIL10', 'PLANTSOIL12', 'PLANTSEEDS', 'PLANTSEEDS01',\n",
       "       'PLANTSEEDS03', 'PLANTSEEDS05', 'PLANTSEEDS07', 'PLANTSEEDS09',\n",
       "       'PLANTSEEDS11', 'PLANTSEEDS02', 'PLANTSEEDS04', 'PLANTSEEDS06',\n",
       "       'PLANTSEEDS08', 'PLANTSEEDS10', 'PLANTSEEDS12', 'PAPERCLIP',\n",
       "       'PAPERCUTTER', 'PAPERGLUE', 'PLASTICKNIFE', 'PLASTICFORK',\n",
       "       'PLASTICSPOON', 'CDPLAYER', 'ANTACID', 'BANDAIDS', 'IBUPROFIN',\n",
       "       'VITAMINA', 'VITAMINB', 'VITAMINC', 'PHONEMOTO', 'PAINT02',\n",
       "       'PAINT03', 'PAINT04', 'PAINT06', 'PAINT07', 'PAINT08', 'PAINT09',\n",
       "       'PAINT10', 'PAINT11', 'PAINT12', 'CRAYON01', 'CRAYON02',\n",
       "       'CRAYON03', 'CRAYON04', 'CRAYON05', 'CRAYON06', 'CRAYON07',\n",
       "       'CRAYON08', 'CRAYON09', 'CRAYON10', 'CRAYON11', 'CRAYON12',\n",
       "       'FRUITAPPLE01', 'FRUITORANGE01', 'FRUITPEAR01', 'FRUITPEACH01',\n",
       "       'FRUITPEACH02', 'FRUITPEACH03', 'FRUITPEACH04', 'FRUITPEACH05',\n",
       "       'FRUITPEACH06', 'FRUITPEACH07', 'FRUITPEACH08', 'FRUITPEACH09',\n",
       "       'FRUITPEACH10', 'FRUITPEACH11', 'FRUITPEACH12', 'FRUITAPPLE03',\n",
       "       'FRUITAPPLE05', 'FRUITAPPLE07', 'FRUITAPPLE09', 'FRUITAPPLE11',\n",
       "       'FRUITAPPLE02', 'FRUITAPPLE04', 'FRUITAPPLE06', 'FRUITAPPLE08',\n",
       "       'FRUITAPPLE10', 'FRUITAPPLE12', 'FRUITORANGE03', 'FRUITORANGE05',\n",
       "       'FRUITORANGE07', 'FRUITORANGE09', 'FRUITORANGE11', 'FRUITORANGE02',\n",
       "       'FRUITORANGE06', 'FRUITORANGE08', 'FRUITORANGE10', 'FRUITORANGE12',\n",
       "       'FRUITORANGE04', 'FRUITPEAR03', 'FRUITPEAR05', 'FRUITPEAR07',\n",
       "       'FRUITPEAR09', 'FRUITPEAR11', 'FRUITPEAR02', 'FRUITPEAR04',\n",
       "       'FRUITPEAR06', 'FRUITPEAR08', 'FRUITPEAR10', 'FRUITPEAR12', 'PEAS',\n",
       "       'CORN', 'BEANS', 'BATTERIESAA', 'BATTERIESAAA', 'BATTERIESD',\n",
       "       'COFFEE', 'PEACH', 'PEACHPIE', 'PEACHCAN', 'CARROT',\n",
       "       'ICECREAMCHOC', 'CARROTCAN', 'TEA', 'FROZPORK20LB', 'PLANTFOOD13',\n",
       "       'PLANTFOOD14', 'PLANTFOOD15', 'PLANTFOOD16', 'PLANTFOOD17',\n",
       "       'PLANTFOOD18', 'PLANTSOIL13', 'PLANTSOIL14', 'PLANTSOIL15',\n",
       "       'PLANTSOIL16', 'PLANTSOIL17', 'PLANTSOIL18', 'PLANTSEEDS13',\n",
       "       'PLANTSEEDS14', 'PLANTSEEDS15', 'PLANTSEEDS16', 'PLANTSEEDS17',\n",
       "       'PLANTSEEDS18', 'PAINT05', 'PAINT13', 'PAINT14', 'PAINT15',\n",
       "       'PAINT16', 'PAINT17', 'PAINT18', 'CRAYON13', 'CRAYON14',\n",
       "       'CRAYON15', 'CRAYON16', 'CRAYON17', 'CRAYON18', 'BTOFRAME',\n",
       "       'BTOWHEEL', 'BTOSEATBLK', 'BTOSEATBRN', 'FIT1', 'FIT2', 'FIT3',\n",
       "       'STAINOAK', 'OIL20W', 'OIL40W', 'OIL10W', 'PAPER', 'PAPERTOWEL',\n",
       "       'PAPERNAP', 'PAPERCUP', 'FIRECRACKER', 'FERTILIZER', 'SOAP',\n",
       "       'SOAPSAN', 'SOAPDISP', 'GOLFVISOR-NAVY', 'GOLFTEE-NAVY',\n",
       "       'GOLFBALL-NAVY', 'TEALEMON', 'TEARASP', 'DRYERSHEET', 'SOFTSOAP',\n",
       "       'BULKSOAP', 'LAWNMOWER', 'SNOWBLOWER', 'WATER', 'GRAPEFRUIT',\n",
       "       'ENERGYDRINK', 'CANDYBAR', 'AVOCADO', 'CAKEMIXCHOC', 'CEREALKIT',\n",
       "       'CHIPS', 'CHEESE', 'SAUSAGE', 'CRACKERS', 'BUTTER', 'VITAMIN PACK',\n",
       "       'CHOCCOOKIE', 'VANCOOKIE', 'CORNPOP', 'CORNFLAKE', 'RICECRISP',\n",
       "       'RICE', 'EGGNOODLE', 'WHEATNOODLE', 'BRANFLAKE', 'BROWNRICE',\n",
       "       'PUREL', 'BODYWASH', 'SHAVECREAM', 'LEDBULB', 'FLASHLIGHT',\n",
       "       'LOOFAH', 'BLEACH32', 'BLEACH48', 'BLEACH128', 'OILCORN',\n",
       "       'OILOLIVE', 'OILVEG', 'BLUEPEN', 'REDPEN', 'PINKPEN', 'GREENPEN',\n",
       "       'ORANGEPEN', 'PURPLEPEN', 'ASPIRIN20CT', 'IBUPROFIN20CT',\n",
       "       'ANTACID20CT', 'GOLFGLOVE', 'GOLFSHOE', 'GOLFVEST', 'GOLFBAG',\n",
       "       'GOLFGLASSES', 'GOLFSOCKS', 'OILCAN20', 'PEANUTBUTTER', 'JELLY',\n",
       "       'TEABLACK', 'TEACHAI', 'ENVELOPELG', 'MSHIRTM', 'MSHIRTXL',\n",
       "       'MSHIRTL', 'MSHIRTS', 'PAINT01', 'COMPUTER', 'MONITOR18'],\n",
       "      dtype=object)"
      ]
     },
     "execution_count": 66,
     "metadata": {},
     "output_type": "execute_result"
    }
   ],
   "source": [
    "df['prtnum'].unique()"
   ]
  },
  {
   "cell_type": "code",
   "execution_count": 71,
   "metadata": {},
   "outputs": [
    {
     "data": {
      "text/html": [
       "<div>\n",
       "<style scoped>\n",
       "    .dataframe tbody tr th:only-of-type {\n",
       "        vertical-align: middle;\n",
       "    }\n",
       "\n",
       "    .dataframe tbody tr th {\n",
       "        vertical-align: top;\n",
       "    }\n",
       "\n",
       "    .dataframe thead th {\n",
       "        text-align: right;\n",
       "    }\n",
       "</style>\n",
       "<table border=\"1\" class=\"dataframe\">\n",
       "  <thead>\n",
       "    <tr style=\"text-align: right;\">\n",
       "      <th></th>\n",
       "      <th>lodnum</th>\n",
       "      <th>subnum</th>\n",
       "      <th>prtnum</th>\n",
       "      <th>untqty</th>\n",
       "    </tr>\n",
       "  </thead>\n",
       "  <tbody>\n",
       "    <tr>\n",
       "      <th>1526</th>\n",
       "      <td>LPN70001</td>\n",
       "      <td>S0000006082B</td>\n",
       "      <td>BLUEPEN</td>\n",
       "      <td>20000</td>\n",
       "    </tr>\n",
       "  </tbody>\n",
       "</table>\n",
       "</div>"
      ],
      "text/plain": [
       "        lodnum        subnum   prtnum  untqty\n",
       "1526  LPN70001  S0000006082B  BLUEPEN   20000"
      ]
     },
     "execution_count": 71,
     "metadata": {},
     "output_type": "execute_result"
    }
   ],
   "source": [
    "df[(df.untqty>1000) & (df.prtnum=='BLUEPEN')]"
   ]
  },
  {
   "cell_type": "code",
   "execution_count": 74,
   "metadata": {},
   "outputs": [
    {
     "data": {
      "text/html": [
       "<div>\n",
       "<style scoped>\n",
       "    .dataframe tbody tr th:only-of-type {\n",
       "        vertical-align: middle;\n",
       "    }\n",
       "\n",
       "    .dataframe tbody tr th {\n",
       "        vertical-align: top;\n",
       "    }\n",
       "\n",
       "    .dataframe thead tr th {\n",
       "        text-align: left;\n",
       "    }\n",
       "\n",
       "    .dataframe thead tr:last-of-type th {\n",
       "        text-align: right;\n",
       "    }\n",
       "</style>\n",
       "<table border=\"1\" class=\"dataframe\">\n",
       "  <thead>\n",
       "    <tr>\n",
       "      <th></th>\n",
       "      <th colspan=\"2\" halign=\"left\">untqty</th>\n",
       "    </tr>\n",
       "    <tr>\n",
       "      <th></th>\n",
       "      <th>amax</th>\n",
       "      <th>mean</th>\n",
       "    </tr>\n",
       "    <tr>\n",
       "      <th>prtnum</th>\n",
       "      <th></th>\n",
       "      <th></th>\n",
       "    </tr>\n",
       "  </thead>\n",
       "  <tbody>\n",
       "    <tr>\n",
       "      <th>ANTACID</th>\n",
       "      <td>2000</td>\n",
       "      <td>2000.000000</td>\n",
       "    </tr>\n",
       "    <tr>\n",
       "      <th>ANTACID20CT</th>\n",
       "      <td>1993</td>\n",
       "      <td>159.240000</td>\n",
       "    </tr>\n",
       "    <tr>\n",
       "      <th>ASPIRIN20CT</th>\n",
       "      <td>1986</td>\n",
       "      <td>170.782609</td>\n",
       "    </tr>\n",
       "    <tr>\n",
       "      <th>AVOCADO</th>\n",
       "      <td>240</td>\n",
       "      <td>240.000000</td>\n",
       "    </tr>\n",
       "    <tr>\n",
       "      <th>BANDAIDS</th>\n",
       "      <td>1000</td>\n",
       "      <td>1000.000000</td>\n",
       "    </tr>\n",
       "    <tr>\n",
       "      <th>...</th>\n",
       "      <td>...</td>\n",
       "      <td>...</td>\n",
       "    </tr>\n",
       "    <tr>\n",
       "      <th>VITAMINA</th>\n",
       "      <td>4500</td>\n",
       "      <td>3920.000000</td>\n",
       "    </tr>\n",
       "    <tr>\n",
       "      <th>VITAMINB</th>\n",
       "      <td>4500</td>\n",
       "      <td>3878.571429</td>\n",
       "    </tr>\n",
       "    <tr>\n",
       "      <th>VITAMINC</th>\n",
       "      <td>4500</td>\n",
       "      <td>3878.571429</td>\n",
       "    </tr>\n",
       "    <tr>\n",
       "      <th>WATER</th>\n",
       "      <td>320</td>\n",
       "      <td>320.000000</td>\n",
       "    </tr>\n",
       "    <tr>\n",
       "      <th>WHEATNOODLE</th>\n",
       "      <td>450</td>\n",
       "      <td>450.000000</td>\n",
       "    </tr>\n",
       "  </tbody>\n",
       "</table>\n",
       "<p>294 rows × 2 columns</p>\n",
       "</div>"
      ],
      "text/plain": [
       "            untqty             \n",
       "              amax         mean\n",
       "prtnum                         \n",
       "ANTACID       2000  2000.000000\n",
       "ANTACID20CT   1993   159.240000\n",
       "ASPIRIN20CT   1986   170.782609\n",
       "AVOCADO        240   240.000000\n",
       "BANDAIDS      1000  1000.000000\n",
       "...            ...          ...\n",
       "VITAMINA      4500  3920.000000\n",
       "VITAMINB      4500  3878.571429\n",
       "VITAMINC      4500  3878.571429\n",
       "WATER          320   320.000000\n",
       "WHEATNOODLE    450   450.000000\n",
       "\n",
       "[294 rows x 2 columns]"
      ]
     },
     "execution_count": 74,
     "metadata": {},
     "output_type": "execute_result"
    }
   ],
   "source": [
    "df.groupby(['prtnum']).agg({'untqty': [np.max ,np.mean]})"
   ]
  },
  {
   "cell_type": "code",
   "execution_count": null,
   "metadata": {},
   "outputs": [],
   "source": []
  }
 ],
 "metadata": {
  "kernelspec": {
   "display_name": "Python 3",
   "language": "python",
   "name": "python3"
  },
  "language_info": {
   "codemirror_mode": {
    "name": "ipython",
    "version": 3
   },
   "file_extension": ".py",
   "mimetype": "text/x-python",
   "name": "python",
   "nbconvert_exporter": "python",
   "pygments_lexer": "ipython3",
   "version": "3.7.6"
  }
 },
 "nbformat": 4,
 "nbformat_minor": 4
}
